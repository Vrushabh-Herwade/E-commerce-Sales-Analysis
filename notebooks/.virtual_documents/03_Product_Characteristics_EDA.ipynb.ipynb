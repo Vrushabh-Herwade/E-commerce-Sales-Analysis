





import numpy as np
import pandas as pd
import matplotlib.pyplot as plt
import seaborn as sns


df = pd.read_csv("olist_cleaned.csv")


df.head()


df[['product_length_cm', 'product_height_cm', 'product_width_cm', 'product_volume_cm3']].head()



df[['product_volume_cm3', 'product_weight_g']].describe()






plt.figure(figsize=(10, 5))
sns.histplot(df['product_volume_cm3'], bins=50, kde=True, color='skyblue')
plt.title('Distribution of Product Volume (cm³)')
plt.xlabel('Product Volume (cm³)')
plt.ylabel('Count')
plt.grid(True)
plt.show()





plt.figure(figsize=(8, 6))
sns.scatterplot(
    x='product_volume_cm3',
    y='product_weight_g',
    data=df,
    alpha=0.5,
    color='teal'
)
plt.title('Product Volume vs Product Weight')
plt.xlabel('Volume (cm³)')
plt.ylabel('Weight (g)')
plt.grid(True)
plt.show()



correlation = df['product_volume_cm3'].corr(df['product_weight_g'])
print(f"Correlation between volume and weight: {correlation:.2f}")



df[['product_length_cm', 'product_height_cm', 'product_width_cm',
    'product_weight_g', 'product_volume_cm3']].isnull().sum()



import matplotlib.pyplot as plt
import seaborn as sns

fig, axes = plt.subplots(1, 4, figsize=(18, 5))

sns.boxplot(y=df['product_length_cm'], ax=axes[0])
axes[0].set_title('Product Length (cm)')

sns.boxplot(y=df['product_height_cm'], ax=axes[1])
axes[1].set_title('Product Height (cm)')

sns.boxplot(y=df['product_width_cm'], ax=axes[2])
axes[2].set_title('Product Width (cm)')

sns.boxplot(y=df['product_weight_g'], ax=axes[3])
axes[3].set_title('Product Weight (g)')

plt.tight_layout()
plt.show()



df_filtered = df[
    (df['product_length_cm'] < 100) &
    (df['product_height_cm'] < 100) &
    (df['product_width_cm'] < 100) &
    (df['product_weight_g'] < 30000)
]





df=df_filtered


import matplotlib.pyplot as plt
import seaborn as sns

fig, axs = plt.subplots(2, 2, figsize=(14, 10))
sns.set_style("whitegrid")

sns.histplot(df['product_length_cm'], kde=True, ax=axs[0, 0], color='blue')
axs[0, 0].set_title('Distribution of Product Length')

sns.histplot(df['product_height_cm'], kde=True, ax=axs[0, 1], color='red')
axs[0, 1].set_title('Distribution of Product Height')

sns.histplot(df['product_width_cm'], kde=True, ax=axs[1, 0], color='green')
axs[1, 0].set_title('Distribution of Product Width')

sns.histplot(df['product_weight_g'], kde=True, ax=axs[1, 1], color='purple')
axs[1, 1].set_title('Distribution of Product Weight')

plt.tight_layout()
plt.show()



product_features = df[['product_length_cm', 'product_height_cm', 'product_width_cm', 
                       'product_volume_cm3', 'product_weight_g']]

correlation_matrix = product_features.corr()

plt.figure(figsize=(8, 6))
sns.heatmap(correlation_matrix, annot=True, cmap='coolwarm', fmt='.2f', square=True)
plt.title('Correlation between Product Features')
plt.show()






photo_counts = df['product_photos_qty'].value_counts().sort_index()

plt.figure(figsize=(8, 5))
sns.barplot(x=photo_counts.index, y=photo_counts.values, palette="viridis")
plt.xlabel("Number of Photos")
plt.ylabel("Number of Products")
plt.title("Distribution of Product Photos per Listing")
plt.xticks(rotation=0)
plt.tight_layout()
plt.show()






plt.figure(figsize=(10, 5))
sns.histplot(df['product_description_lenght'], bins=30, kde=True, color='teal')
plt.xlabel("Description Length (Characters)")
plt.ylabel("Number of Products")
plt.title("Distribution of Product Description Length")
plt.tight_layout()
plt.show()






# Check basic stats of description and name length
df[['product_description_lenght', 'product_name_lenght']].describe()



import matplotlib.pyplot as plt
import seaborn as sns

plt.figure(figsize=(14, 6))

plt.subplot(1, 2, 1)
sns.histplot(df['product_description_lenght'], bins=50, color='blue')
plt.title('Distribution of Product Description Length')
plt.xlabel('Description Length (characters)')
plt.ylabel('Count')

plt.subplot(1, 2, 2)
sns.histplot(df['product_name_lenght'], bins=30, color='green')
plt.title('Distribution of Product Name Length')
plt.xlabel('Name Length (characters)')
plt.ylabel('Count')

plt.tight_layout()
plt.show()




category_desc_stats = df.groupby('product_category_name')[['product_description_lenght', 'product_name_lenght']].mean().sort_values(by='product_description_lenght', ascending=False)

category_desc_stats.head(10)






fig, axes = plt.subplots(1, 3, figsize=(18, 5))

sns.histplot(df['delivery_time_days'], bins=30, kde=True, ax=axes[0], color='blue')
axes[0].set_title('Shipping Time Distribution')
axes[0].set_xlabel('Days')

sns.histplot(df['delay_vs_estimate'], bins=30, kde=True, ax=axes[1], color='orange')
axes[1].set_title('Delivery Delay vs Estimated')
axes[1].set_xlabel('Days (positive = late)')

sns.histplot(df['customer_wait_time'], bins=30, kde=True, ax=axes[2], color='green')
axes[2].set_title('Customer Wait Time')
axes[2].set_xlabel('Days')

plt.tight_layout()
plt.show()



delivery_metrics = df.groupby('product_category_name')[
    ['delivery_time_days', 'delay_vs_estimate', 'customer_wait_time']
].mean().sort_values(by='customer_wait_time', ascending=False)

# Display top 10 categories by customer wait time
delivery_metrics.head(10)



df.to_csv('data.csv', index=False)




