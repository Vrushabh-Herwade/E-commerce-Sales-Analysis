


import pandas as pd
import seaborn as sns
import matplotlib.pyplot as plt

df = pd.read_csv('data.csv') 

df.columns




seller_stats = df.groupby('seller_id').agg(
    total_orders=('order_id', 'nunique'),
    total_items=('order_item_id', 'count'),
    total_revenue=('price', 'sum'),
    total_freight=('freight_value', 'sum')
).reset_index()

top_sellers = seller_stats.sort_values(by='total_revenue', ascending=False).head(10)
top_sellers



plt.figure(figsize=(12, 6))
sns.barplot(data=top_sellers, x='seller_id', y='total_revenue', palette='viridis')
plt.title('Top 10 Sellers by Total Revenue')
plt.ylabel('Revenue (BRL)')
plt.xlabel('Seller ID')
plt.xticks(rotation=45)
plt.tight_layout()
plt.show()



# Group by seller_id and calculate delivery performance metrics
seller_delivery = df.groupby('seller_id').agg(
    avg_delay_vs_estimate=('delay_vs_estimate', 'mean'),
    late_delivery_rate=('is_late', 'mean'),
    fast_shipping_rate=('is_fast_shipping', 'mean'),
    total_orders=('order_id', 'nunique')
).reset_index()

# Filter out unreliable (low-volume) sellers
reliable_sellers = seller_delivery[seller_delivery['total_orders'] >= 30]

# View top 10 sellers with highest average delays
slow_sellers = reliable_sellers.sort_values(by='avg_delay_vs_estimate', ascending=False).head(10)
slow_sellers






plt.figure(figsize=(12, 6))
sns.barplot(data=slow_sellers, x='seller_id', y='avg_delay_vs_estimate', palette='Reds')
plt.title('🚨 Top 10 Sellers with Highest Delivery Delays')
plt.ylabel('Average Delay (days)')
plt.xlabel('Seller ID')
plt.xticks(rotation=45)
plt.tight_layout()
plt.show()









# Sort by fast shipping rate and low delay
fast_sellers = reliable_sellers.sort_values(
    by=['fast_shipping_rate', 'avg_delay_vs_estimate'],
    ascending=[False, True]
).head(10)

fast_sellers



plt.figure(figsize=(12, 6))
sns.barplot(data=fast_sellers, x='seller_id', y='fast_shipping_rate', palette='Greens')
plt.title('✅ Top 10 Fastest & Most Reliable Sellers')
plt.ylabel('Fast Shipping Rate')
plt.xlabel('Seller ID')
plt.xticks(rotation=45)
plt.tight_layout()
plt.show()







