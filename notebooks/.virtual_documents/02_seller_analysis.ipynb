import numpy as np
import pandas as pd


df=pd.read_csv("data.csv")


seller_sales = df.groupby('seller_id').agg(
    total_orders=('order_id', 'nunique'),
    total_items_sold=('order_item_id', 'count'),
    total_sales_value=('price', 'sum')
).reset_index()






seller_delivery = df.groupby('seller_id').agg(
    avg_delivery_time_days=('delivery_time_days', 'mean'),
    avg_delay_vs_estimate=('delay_vs_estimate', 'mean'),
    late_delivery_rate=('is_late', 'mean')  # optional, in %
).reset_index()






seller_df = seller_sales.merge(seller_delivery, on='seller_id', how='left')






seller_df = df.groupby('seller_id').agg(
    total_orders=('order_id', 'nunique'),
    total_revenue=('total_order_value', 'sum'),
    avg_delay_vs_estimate=('delay_vs_estimate', 'mean'),
    late_deliveries=('is_late', 'sum'),
    fast_shipping=('is_fast_shipping', 'sum')
).reset_index()

seller_df['late_delivery_rate'] = seller_df['late_deliveries'] / seller_df['total_orders']
seller_df['fast_shipping_rate'] = seller_df['fast_shipping'] / seller_df['total_orders']




top10_revenue = seller_df.sort_values(by='total_revenue', ascending=False).head(10)
top10_revenue[['seller_id', 'total_revenue', 'total_orders']]



top10_late = seller_df.sort_values(by='late_delivery_rate', ascending=False).head(10)
top10_late[['seller_id', 'late_delivery_rate', 'total_orders']]



top10_fast = seller_df.sort_values(by='fast_shipping_rate', ascending=False).head(10)
top10_fast[['seller_id', 'fast_shipping_rate', 'total_orders']]






import matplotlib.pyplot as plt
import seaborn as sns

sns.set(style='whitegrid')



plt.figure(figsize=(10,6))
sns.barplot(x='total_revenue', y='seller_id', data=top10_revenue, palette='Blues_d')
plt.title('Top 10 Sellers by Total Revenue')
plt.xlabel('Total Revenue (BRL)')
plt.ylabel('Seller ID')
plt.tight_layout()
plt.show()



plt.figure(figsize=(10,6))
sns.barplot(x='late_delivery_rate', y='seller_id', data=top10_late, palette='Reds_d')
plt.title('Top 10 Sellers by Late Delivery Rate')
plt.xlabel('Late Delivery Rate')
plt.ylabel('Seller ID')
plt.tight_layout()
plt.show()



plt.figure(figsize=(10,6))
sns.barplot(x='fast_shipping_rate', y='seller_id', data=top10_fast, palette='Greens_d')
plt.title('Top 10 Sellers by Fast Shipping Rate')
plt.xlabel('Fast Shipping Rate')
plt.ylabel('Seller ID')
plt.tight_layout()
plt.show()






category_kpis = df.groupby('product_category_name').agg({
    'delivery_time_days': 'mean',
    'delay_vs_estimate': 'mean',
    'customer_wait_time': 'mean'
}).round(2).sort_values(by='customer_wait_time', ascending=False)

category_kpis.head(10)



plt.figure(figsize=(12, 10))
sns.heatmap(category_kpis, cmap='YlOrBr', linewidths=0.5, annot=True)
plt.title('Delivery KPIs by Product Category', fontsize=14)
plt.xlabel('KPI')
plt.ylabel('Product Category')
plt.tight_layout()
plt.show()






# 💡 Feature: Average product price per order
# Total price per order / total items per order

# Step 1: Group by order_id
order_totals = df.groupby('order_id').agg({
    'price': 'sum',
    'order_item_id': 'count'  # number of items in the order
}).rename(columns={
    'price': 'order_total_price',
    'order_item_id': 'total_items'
})

# Step 2: Calculate average price per item in the order
order_totals['avg_product_price_per_order'] = order_totals['order_total_price'] / order_totals['total_items']

# Step 3: Merge back to main DataFrame
df = df.merge(order_totals['avg_product_price_per_order'], on='order_id', how='left')

# 🔍 Preview
df[['order_id', 'price', 'avg_product_price_per_order']].head()



df['price_to_weight_ratio'] = df['price'] / df['product_weight_g']



df['price_to_weight_ratio'] = df.apply(
    lambda row: row['price'] / row['product_weight_g'] if row['product_weight_g'] != 0 else 0, axis=1
)



df['freight_share'] = df['freight_value'] / df['total_order_value']
df['freight_share'] = df['freight_share'].fillna(0)



df['product_density'] = df['product_weight_g'] / df['product_volume_cm3']
df['product_density'] = df['product_density'].replace([np.inf, -np.inf], 0).fillna(0)




items_per_order = df.groupby('order_id')['order_item_id'].count().reset_index()
items_per_order.columns = ['order_id', 'num_items']
df = df.merge(items_per_order, on='order_id', how='left')



df.to_csv('data.csv', index=False)




