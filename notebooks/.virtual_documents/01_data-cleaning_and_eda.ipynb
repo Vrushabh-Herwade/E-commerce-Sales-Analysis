


import numpy as np
import pandas as pd


df=pd.read_csv('olist_merged_dataset.csv')


df.head()


df.columns


df.describe(include="all")


df.isnull().sum()


missing_percent = df.isnull().mean().round(4) * 100
missing_percent = missing_percent[missing_percent > 0].sort_values(ascending=False)
print(missing_percent)


critical_cols = ['product_id', 'price', 'freight_value', 'order_item_id', 'seller_id', 'shipping_limit_date']
df = df.dropna(subset=critical_cols)


df.loc[:, 'product_photos_qty'] = df['product_photos_qty'].fillna(0)
df.loc[:, 'product_description_lenght'] = df['product_description_lenght'].fillna(0)
df.loc[:, 'product_name_lenght'] = df['product_name_lenght'].fillna(0)
df.loc[:, 'product_category_name'] = df['product_category_name'].fillna('unknown')


df.loc[:, 'product_height_cm'] = df['product_height_cm'].fillna(df['product_height_cm'].median())
df.loc[:, 'product_length_cm'] = df['product_length_cm'].fillna(df['product_length_cm'].median())
df.loc[:, 'product_weight_g'] = df['product_weight_g'].fillna(df['product_weight_g'].median())
df.loc[:, 'product_width_cm']  = df['product_width_cm'].fillna(df['product_width_cm'].median())



df[['order_delivered_customer_date', 'order_delivered_carrier_date']].isna().sum()



df = df.dropna(subset=['order_delivered_customer_date', 'order_delivered_carrier_date'])



df['product_volume_cm3'] = df['product_height_cm'] * df['product_length_cm'] * df['product_width_cm']






df['order_purchase_timestamp'] = pd.to_datetime(df['order_purchase_timestamp'])
df['order_delivered_customer_date'] = pd.to_datetime(df['order_delivered_customer_date'])


df['delivery_time_days'] = (df['order_delivered_customer_date'] - df['order_purchase_timestamp']).dt.days


df['order_estimated_delivery_date'] = pd.to_datetime(df['order_estimated_delivery_date'])

df['delay_vs_estimate'] = (df['order_delivered_customer_date'] - df['order_estimated_delivery_date']).dt.days



df.head()


df['is_late'] = df['delay_vs_estimate'] > 0
df['is_delivered'] = df['order_status'] == 'delivered'


df['is_fast_shipping'] = df['delivery_time_days'] < 5



df['price_per_cm3'] = df['price'] / (df['product_volume_cm3'] + 1)  # +1 to avoid division by 0



df['total_order_value'] = df['price'] + df['freight_value']



df['customer_wait_time'] = (df['order_delivered_customer_date'] - df['order_purchase_timestamp']).dt.days


df.head()


df.to_csv('olist_cleaned.csv', index=False)







