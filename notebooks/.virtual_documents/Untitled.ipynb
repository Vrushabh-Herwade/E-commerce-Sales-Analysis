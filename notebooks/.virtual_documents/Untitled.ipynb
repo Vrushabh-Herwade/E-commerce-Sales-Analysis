!pip install mysql-connector-python



import pandas as pd
from sqlalchemy import create_engine

# Step 1: Load your CSV
df = pd.read_csv(r'C:\ProgramData\MySQL\MySQL Server 8.0\Uploads\final.csv')

# Step 2: Connect to MySQL
# Replace 'root', 'your_password', and 'olist_project' with your credentials
username = 'root'
password = '1212'   # 🔁 Replace with your MySQL password
host = 'localhost'
port = '3306'
database = 'olist_project'   # 🔁 Replace with your MySQL DB name

engine = create_engine(f"mysql+mysqlconnector://{username}:{password}@{host}:{port}/{database}")

# Step 3: Upload the dataframe to MySQL
df.to_sql(name='olist_final', con=engine, if_exists='replace', index=False)

print("✅ CSV uploaded to MySQL table 'olist_final' successfully!")




