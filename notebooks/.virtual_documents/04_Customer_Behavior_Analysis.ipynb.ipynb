


import pandas as pd


df=pd.read_csv("data.csv")


import matplotlib.pyplot as plt
import seaborn as sns

plt.figure(figsize=(10,6))
sns.histplot(df['customer_wait_time'], bins=30, kde=True, color='skyblue')
plt.title('Distribution of Customer Wait Time (in Days)', fontsize=14)
plt.xlabel('Customer Wait Time (days)')
plt.ylabel('Number of Orders')
plt.grid(True)
plt.show()






# Grouping by customer state and calculating average wait time
state_wait_times = df.groupby('customer_state')['customer_wait_time'].mean().sort_values(ascending=False)

# Plotting
plt.figure(figsize=(12,6))
sns.barplot(x=state_wait_times.index, y=state_wait_times.values, palette='viridis')
plt.title('Average Customer Wait Time by State', fontsize=14)
plt.xlabel('State')
plt.ylabel('Average Wait Time (days)')
plt.xticks(rotation=45)
plt.grid(axis='y')
plt.tight_layout()
plt.show()







late_deliveries_state = df.groupby('customer_state')['is_late'].mean().sort_values(ascending=False)

plt.figure(figsize=(12,6))
sns.barplot(x=late_deliveries_state.index, y=late_deliveries_state.values, palette='magma')
plt.title('Late Delivery Rate by State', fontsize=14)
plt.xlabel('State')
plt.ylabel('Late Delivery Rate')
plt.xticks(rotation=45)
plt.grid(axis='y')
plt.tight_layout()
plt.show()






# Calculate shipping time = carrier pickup to delivery to customer
df['shipping_time'] = (
    pd.to_datetime(df['order_delivered_customer_date']) - 
    pd.to_datetime(df['order_delivered_carrier_date'])
).dt.days



shipping_vs_late = df.groupby('seller_id').agg(
    avg_shipping_time=('shipping_time', 'mean'),
    late_delivery_rate=('is_late', 'mean'),
    order_count=('order_id', 'count')
).reset_index()

shipping_vs_late = shipping_vs_late[shipping_vs_late['order_count'] >= 50]

plt.figure(figsize=(10,6))
sns.scatterplot(
    data=shipping_vs_late,
    x='avg_shipping_time',
    y='late_delivery_rate',
    size='order_count',
    hue='late_delivery_rate',
    palette='coolwarm',
    sizes=(20, 200),
    alpha=0.7
)
plt.title('Shipping Time vs Late Delivery Rate (Sellers with ≥50 Orders)', fontsize=13)
plt.xlabel('Average Shipping Time (days)')
plt.ylabel('Late Delivery Rate')
plt.grid(True)
plt.tight_layout()
plt.show()






reviews = pd.read_csv('olist_order_reviews_dataset.csv')

reviews = reviews[['order_id', 'review_score']]

df = df.merge(reviews, on='order_id', how='left')



wait_vs_score = df.groupby(df['customer_wait_time'].round()).agg(
    avg_review_score=('review_score', 'mean'),
    order_count=('order_id', 'count')
).reset_index().rename(columns={'customer_wait_time': 'wait_time_rounded'})



plt.figure(figsize=(10,6))
sns.lineplot(data=wait_vs_score, x='wait_time_rounded', y='avg_review_score', marker='o')
plt.title('Customer Wait Time vs Average Review Score')
plt.xlabel('Customer Wait Time (days)')
plt.ylabel('Average Review Score')
plt.grid(True)
plt.tight_layout()
plt.show()







