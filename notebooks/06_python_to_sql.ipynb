{
 "cells": [
  {
   "cell_type": "code",
   "execution_count": 3,
   "id": "4aecf8d3-fb31-4d85-bbd8-bd71c8df237e",
   "metadata": {},
   "outputs": [
    {
     "name": "stdout",
     "output_type": "stream",
     "text": [
      "Collecting mysql-connector-python\n",
      "  Downloading mysql_connector_python-9.4.0-cp313-cp313-win_amd64.whl.metadata (7.7 kB)\n",
      "Downloading mysql_connector_python-9.4.0-cp313-cp313-win_amd64.whl (16.4 MB)\n",
      "   ---------------------------------------- 0.0/16.4 MB ? eta -:--:--\n",
      "   ---- ----------------------------------- 1.8/16.4 MB 10.5 MB/s eta 0:00:02\n",
      "   ------- -------------------------------- 3.1/16.4 MB 8.2 MB/s eta 0:00:02\n",
      "   --------- ------------------------------ 3.9/16.4 MB 6.5 MB/s eta 0:00:02\n",
      "   ------------- -------------------------- 5.5/16.4 MB 6.6 MB/s eta 0:00:02\n",
      "   ---------------- ----------------------- 6.8/16.4 MB 6.6 MB/s eta 0:00:02\n",
      "   ----------------- ---------------------- 7.3/16.4 MB 6.2 MB/s eta 0:00:02\n",
      "   ------------------- -------------------- 8.1/16.4 MB 5.6 MB/s eta 0:00:02\n",
      "   --------------------- ------------------ 8.7/16.4 MB 5.2 MB/s eta 0:00:02\n",
      "   ---------------------- ----------------- 9.2/16.4 MB 4.8 MB/s eta 0:00:02\n",
      "   ----------------------- ---------------- 9.7/16.4 MB 4.6 MB/s eta 0:00:02\n",
      "   ------------------------ --------------- 10.2/16.4 MB 4.5 MB/s eta 0:00:02\n",
      "   -------------------------- ------------- 10.7/16.4 MB 4.2 MB/s eta 0:00:02\n",
      "   -------------------------- ------------- 11.0/16.4 MB 4.0 MB/s eta 0:00:02\n",
      "   ----------------------------- ---------- 12.1/16.4 MB 4.0 MB/s eta 0:00:02\n",
      "   ------------------------------- -------- 12.8/16.4 MB 4.0 MB/s eta 0:00:01\n",
      "   --------------------------------- ------ 13.6/16.4 MB 4.1 MB/s eta 0:00:01\n",
      "   ----------------------------------- ---- 14.7/16.4 MB 4.1 MB/s eta 0:00:01\n",
      "   -------------------------------------- - 15.7/16.4 MB 4.1 MB/s eta 0:00:01\n",
      "   ---------------------------------------  16.3/16.4 MB 4.1 MB/s eta 0:00:01\n",
      "   ---------------------------------------- 16.4/16.4 MB 4.0 MB/s eta 0:00:00\n",
      "Installing collected packages: mysql-connector-python\n",
      "Successfully installed mysql-connector-python-9.4.0\n"
     ]
    }
   ],
   "source": [
    "!pip install mysql-connector-python\n"
   ]
  },
  {
   "cell_type": "code",
   "execution_count": 4,
   "id": "bbc4c6a5-7d26-4e3c-b7e4-499df4b02e8b",
   "metadata": {},
   "outputs": [
    {
     "name": "stdout",
     "output_type": "stream",
     "text": [
      "✅ CSV uploaded to MySQL table 'olist_final' successfully!\n"
     ]
    }
   ],
   "source": [
    "import pandas as pd\n",
    "from sqlalchemy import create_engine\n",
    "\n",
    "# Step 1: Load your CSV\n",
    "df = pd.read_csv(r'C:\\ProgramData\\MySQL\\MySQL Server 8.0\\Uploads\\final.csv')\n",
    "\n",
    "# Step 2: Connect to MySQL\n",
    "# Replace 'root', 'your_password', and 'olist_project' with your credentials\n",
    "username = 'root'\n",
    "password = '1212'   # 🔁 Replace with your MySQL password\n",
    "host = 'localhost'\n",
    "port = '3306'\n",
    "database = 'olist_project'   # 🔁 Replace with your MySQL DB name\n",
    "\n",
    "engine = create_engine(f\"mysql+mysqlconnector://{username}:{password}@{host}:{port}/{database}\")\n",
    "\n",
    "# Step 3: Upload the dataframe to MySQL\n",
    "df.to_sql(name='olist_final', con=engine, if_exists='replace', index=False)\n",
    "\n",
    "print(\"✅ CSV uploaded to MySQL table 'olist_final' successfully!\")\n"
   ]
  },
  {
   "cell_type": "code",
   "execution_count": null,
   "id": "74323350-2e57-418b-8aaa-881ecac3e950",
   "metadata": {},
   "outputs": [],
   "source": []
  }
 ],
 "metadata": {
  "kernelspec": {
   "display_name": "Python [conda env:base] *",
   "language": "python",
   "name": "conda-base-py"
  },
  "language_info": {
   "codemirror_mode": {
    "name": "ipython",
    "version": 3
   },
   "file_extension": ".py",
   "mimetype": "text/x-python",
   "name": "python",
   "nbconvert_exporter": "python",
   "pygments_lexer": "ipython3",
   "version": "3.13.5"
  }
 },
 "nbformat": 4,
 "nbformat_minor": 5
}
